{
 "cells": [
  {
   "cell_type": "code",
   "execution_count": 193,
   "metadata": {},
   "outputs": [],
   "source": [
    "import sqlite3\n",
    "import pandas as pd\n",
    "import os"
   ]
  },
  {
   "cell_type": "code",
   "execution_count": 194,
   "metadata": {},
   "outputs": [],
   "source": [
    "# create and Connect to SQLite database \n",
    "\n",
    "if not os.path.exists('Database'):\n",
    "    os.makedirs('Database')\n",
    "\n",
    "db_path = os.path.join('Database', 'CancerNuclear.sqlite')\n",
    "conn = sqlite3.connect(db_path)\n",
    "cursor = conn.cursor()"
   ]
  },
  {
   "cell_type": "code",
   "execution_count": 195,
   "metadata": {},
   "outputs": [
    {
     "data": {
      "text/plain": [
       "<sqlite3.Cursor at 0x11d010840>"
      ]
     },
     "execution_count": 195,
     "metadata": {},
     "output_type": "execute_result"
    }
   ],
   "source": [
    "\n",
    "cursor.execute('''\n",
    "CREATE TABLE IF NOT EXISTS nuclear_power_plants (\n",
    "    fid TEXT NOT NULL PRIMARY KEY,\n",
    "    region TEXT,\n",
    "    country TEXT,\n",
    "    plant TEXT,\n",
    "    numreactor TEXT,\n",
    "    latitude NUMERIC(9,6),\n",
    "    longitude NUMERIC(9,6)\n",
    ")\n",
    "''')\n"
   ]
  },
  {
   "cell_type": "code",
   "execution_count": 196,
   "metadata": {},
   "outputs": [
    {
     "data": {
      "text/plain": [
       "<sqlite3.Cursor at 0x11d010840>"
      ]
     },
     "execution_count": 196,
     "metadata": {},
     "output_type": "execute_result"
    }
   ],
   "source": [
    "cursor.execute('''\n",
    "CREATE TABLE IF NOT EXISTS cleaned_all_cancer (\n",
    "    county TEXT,\n",
    "    fips INTEGER NOT NULL PRIMARY KEY,\n",
    "    average_annual_count TEXT,\n",
    "    state TEXT\n",
    ")\n",
    "''')"
   ]
  },
  {
   "cell_type": "code",
   "execution_count": 197,
   "metadata": {},
   "outputs": [
    {
     "data": {
      "text/plain": [
       "<sqlite3.Cursor at 0x11d010840>"
      ]
     },
     "execution_count": 197,
     "metadata": {},
     "output_type": "execute_result"
    }
   ],
   "source": [
    "cursor.execute('''\n",
    "CREATE TABLE IF NOT EXISTS breast_cancer (\n",
    "    county TEXT,\n",
    "    fips INTEGER NOT NULL PRIMARY KEY,\n",
    "    average_annual_count TEXT,\n",
    "    state TEXT\n",
    ");\n",
    "''')"
   ]
  },
  {
   "cell_type": "code",
   "execution_count": 198,
   "metadata": {},
   "outputs": [],
   "source": [
    "conn.commit()\n"
   ]
  },
  {
   "cell_type": "code",
   "execution_count": 199,
   "metadata": {},
   "outputs": [
    {
     "data": {
      "text/plain": [
       "85"
      ]
     },
     "execution_count": 199,
     "metadata": {},
     "output_type": "execute_result"
    }
   ],
   "source": [
    "\n",
    "#conn = sqlite3.connect(db_path)\n",
    "nuclear_power_plants_df = pd.read_csv('../Cancer_Cartographers/Clean_files/Nuclear_data.csv')\n",
    "nuclear_power_plants_df.to_sql('nuclear_power_plants', conn, if_exists='append', index=False)\n",
    "\n"
   ]
  },
  {
   "cell_type": "code",
   "execution_count": 200,
   "metadata": {},
   "outputs": [
    {
     "data": {
      "text/plain": [
       "2931"
      ]
     },
     "execution_count": 200,
     "metadata": {},
     "output_type": "execute_result"
    }
   ],
   "source": [
    "all_cancer_df = pd.read_csv(\"../Cancer_Cartographers/Clean_files/cleaned_all_cancer_data.csv\")\n",
    "all_cancer_df.to_sql('cleaned_all_cancer', conn, if_exists='append', index=False)"
   ]
  },
  {
   "cell_type": "code",
   "execution_count": 201,
   "metadata": {},
   "outputs": [
    {
     "data": {
      "text/plain": [
       "3141"
      ]
     },
     "execution_count": 201,
     "metadata": {},
     "output_type": "execute_result"
    }
   ],
   "source": [
    "breast_cancer_df = pd.read_csv(\"../Cancer_Cartographers/Clean_files/cleaned_Breast_Cancer_data.csv\")\n",
    "breast_cancer_df.to_sql('breast_cancer', conn, if_exists='append', index=False)"
   ]
  },
  {
   "cell_type": "code",
   "execution_count": 202,
   "metadata": {},
   "outputs": [],
   "source": [
    "\n",
    "#df = pd.read_sql_query('SELECT * FROM nuclear_power_plants', conn)\n",
    "#df\n"
   ]
  },
  {
   "cell_type": "code",
   "execution_count": 203,
   "metadata": {},
   "outputs": [],
   "source": [
    "#df = pd.read_sql_query('SELECT * FROM cleaned_all_cancer limit 10', conn)\n",
    "#df"
   ]
  },
  {
   "cell_type": "code",
   "execution_count": 204,
   "metadata": {},
   "outputs": [],
   "source": [
    "#df = pd.read_sql_query('SELECT * FROM breast_cancer limit 10', conn)\n",
    "#df"
   ]
  },
  {
   "cell_type": "code",
   "execution_count": 205,
   "metadata": {},
   "outputs": [],
   "source": [
    "#cursor.execute(\"SELECT name FROM sqlite_master WHERE type='table' AND name='nuclear_power_plants'\")\n",
    "#print(cursor.fetchone())"
   ]
  },
  {
   "cell_type": "code",
   "execution_count": null,
   "metadata": {},
   "outputs": [],
   "source": [
    "\n"
   ]
  }
 ],
 "metadata": {
  "kernelspec": {
   "display_name": "3.10.14",
   "language": "python",
   "name": "python3"
  },
  "language_info": {
   "codemirror_mode": {
    "name": "ipython",
    "version": 3
   },
   "file_extension": ".py",
   "mimetype": "text/x-python",
   "name": "python",
   "nbconvert_exporter": "python",
   "pygments_lexer": "ipython3",
   "version": "3.10.14"
  }
 },
 "nbformat": 4,
 "nbformat_minor": 2
}
